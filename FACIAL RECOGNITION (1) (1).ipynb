{
 "cells": [
  {
   "cell_type": "code",
   "execution_count": 1,
   "metadata": {
    "_cell_guid": "b1076dfc-b9ad-4769-8c92-a6c4dae69d19",
    "_uuid": "8f2839f25d086af736a60e9eeb907d3b93b6e0e5"
   },
   "outputs": [],
   "source": [
    "import numpy as np # linear algebra\n",
    "import pandas as pd # data processing, CSV file I/O (e.g. pd.read_csv)"
   ]
  },
  {
   "cell_type": "code",
   "execution_count": 2,
   "metadata": {
    "_cell_guid": "79c7e3d0-c299-4dcb-8224-4455121ee9b0",
    "_uuid": "d629ff2d2480ee46fbb7e2d37f6b5fab8052498a"
   },
   "outputs": [
    {
     "name": "stderr",
     "output_type": "stream",
     "text": [
      "Using TensorFlow backend.\n"
     ]
    }
   ],
   "source": [
    "import tensorflow as tf\n",
    "\n",
    "import keras\n",
    "from keras.models import Sequential\n",
    "from keras.layers import Conv2D, MaxPooling2D, AveragePooling2D\n",
    "from keras.layers import Dense, Activation, Dropout, Flatten\n",
    "\n",
    "from keras.preprocessing import image\n",
    "from keras.preprocessing.image import ImageDataGenerator\n",
    "import pandas as pd\n",
    "import numpy as np\n",
    "import matplotlib.pyplot as plt"
   ]
  },
  {
   "cell_type": "code",
   "execution_count": null,
   "metadata": {},
   "outputs": [],
   "source": []
  },
  {
   "cell_type": "code",
   "execution_count": 3,
   "metadata": {
    "_uuid": "87965c894d3b7f3b3dfc66d8c2a60efcc08a370d"
   },
   "outputs": [
    {
     "data": {
      "text/html": [
       "<div>\n",
       "<style scoped>\n",
       "    .dataframe tbody tr th:only-of-type {\n",
       "        vertical-align: middle;\n",
       "    }\n",
       "\n",
       "    .dataframe tbody tr th {\n",
       "        vertical-align: top;\n",
       "    }\n",
       "\n",
       "    .dataframe thead th {\n",
       "        text-align: right;\n",
       "    }\n",
       "</style>\n",
       "<table border=\"1\" class=\"dataframe\">\n",
       "  <thead>\n",
       "    <tr style=\"text-align: right;\">\n",
       "      <th></th>\n",
       "      <th>emotion</th>\n",
       "      <th>pixels</th>\n",
       "      <th>usage</th>\n",
       "    </tr>\n",
       "  </thead>\n",
       "  <tbody>\n",
       "    <tr>\n",
       "      <td>0</td>\n",
       "      <td>emotion</td>\n",
       "      <td>pixels</td>\n",
       "      <td>Usage</td>\n",
       "    </tr>\n",
       "    <tr>\n",
       "      <td>1</td>\n",
       "      <td>0</td>\n",
       "      <td>70 80 82 72 58 58 60 63 54 58 60 48 89 115 121...</td>\n",
       "      <td>Training</td>\n",
       "    </tr>\n",
       "    <tr>\n",
       "      <td>2</td>\n",
       "      <td>0</td>\n",
       "      <td>151 150 147 155 148 133 111 140 170 174 182 15...</td>\n",
       "      <td>Training</td>\n",
       "    </tr>\n",
       "    <tr>\n",
       "      <td>3</td>\n",
       "      <td>2</td>\n",
       "      <td>231 212 156 164 174 138 161 173 182 200 106 38...</td>\n",
       "      <td>Training</td>\n",
       "    </tr>\n",
       "    <tr>\n",
       "      <td>4</td>\n",
       "      <td>4</td>\n",
       "      <td>24 32 36 30 32 23 19 20 30 41 21 22 32 34 21 1...</td>\n",
       "      <td>Training</td>\n",
       "    </tr>\n",
       "    <tr>\n",
       "      <td>5</td>\n",
       "      <td>6</td>\n",
       "      <td>4 0 0 0 0 0 0 0 0 0 0 0 3 15 23 28 48 50 58 84...</td>\n",
       "      <td>Training</td>\n",
       "    </tr>\n",
       "    <tr>\n",
       "      <td>6</td>\n",
       "      <td>2</td>\n",
       "      <td>55 55 55 55 55 54 60 68 54 85 151 163 170 179 ...</td>\n",
       "      <td>Training</td>\n",
       "    </tr>\n",
       "    <tr>\n",
       "      <td>7</td>\n",
       "      <td>4</td>\n",
       "      <td>20 17 19 21 25 38 42 42 46 54 56 62 63 66 82 1...</td>\n",
       "      <td>Training</td>\n",
       "    </tr>\n",
       "    <tr>\n",
       "      <td>8</td>\n",
       "      <td>3</td>\n",
       "      <td>77 78 79 79 78 75 60 55 47 48 58 73 77 79 57 5...</td>\n",
       "      <td>Training</td>\n",
       "    </tr>\n",
       "    <tr>\n",
       "      <td>9</td>\n",
       "      <td>3</td>\n",
       "      <td>85 84 90 121 101 102 133 153 153 169 177 189 1...</td>\n",
       "      <td>Training</td>\n",
       "    </tr>\n",
       "  </tbody>\n",
       "</table>\n",
       "</div>"
      ],
      "text/plain": [
       "   emotion                                             pixels     usage\n",
       "0  emotion                                             pixels     Usage\n",
       "1        0  70 80 82 72 58 58 60 63 54 58 60 48 89 115 121...  Training\n",
       "2        0  151 150 147 155 148 133 111 140 170 174 182 15...  Training\n",
       "3        2  231 212 156 164 174 138 161 173 182 200 106 38...  Training\n",
       "4        4  24 32 36 30 32 23 19 20 30 41 21 22 32 34 21 1...  Training\n",
       "5        6  4 0 0 0 0 0 0 0 0 0 0 0 3 15 23 28 48 50 58 84...  Training\n",
       "6        2  55 55 55 55 55 54 60 68 54 85 151 163 170 179 ...  Training\n",
       "7        4  20 17 19 21 25 38 42 42 46 54 56 62 63 66 82 1...  Training\n",
       "8        3  77 78 79 79 78 75 60 55 47 48 58 73 77 79 57 5...  Training\n",
       "9        3  85 84 90 121 101 102 133 153 153 169 177 189 1...  Training"
      ]
     },
     "execution_count": 3,
     "metadata": {},
     "output_type": "execute_result"
    }
   ],
   "source": [
    "# get the data\n",
    "filname = 'F:/fer2013.csv'\n",
    "label_map = ['Anger', 'Disgust', 'Fear', 'Happy', 'Sad', 'Surprise', 'Neutral']\n",
    "names=['emotion','pixels','usage']\n",
    "df=pd.read_csv('F:/fer2013.csv',names=names, na_filter=False)\n",
    "im=df['pixels']\n",
    "df.head(10)"
   ]
  },
  {
   "cell_type": "code",
   "execution_count": 4,
   "metadata": {
    "_uuid": "bfde4d91ff367dfa6764202c1b309ea291fb833a"
   },
   "outputs": [],
   "source": [
    "def getData(filname):\n",
    "    # images are 48x48\n",
    "    # N = 35887\n",
    "    Y = []\n",
    "    X = []\n",
    "    first = True\n",
    "    for line in open(filname):\n",
    "        if first:\n",
    "            first = False\n",
    "        else:\n",
    "            row = line.split(',')\n",
    "            Y.append(int(row[0]))\n",
    "            X.append([int(p) for p in row[1].split()])\n",
    "\n",
    "    X, Y = np.array(X) / 255.0, np.array(Y)\n",
    "    return X, Y\n"
   ]
  },
  {
   "cell_type": "code",
   "execution_count": 5,
   "metadata": {
    "_uuid": "435d0e06553e3de3fd982e4a4a86c28018ac3913"
   },
   "outputs": [
    {
     "name": "stdout",
     "output_type": "stream",
     "text": [
      "7\n"
     ]
    }
   ],
   "source": [
    "X, Y = getData(filname)\n",
    "num_class = len(set(Y))\n",
    "print(num_class)"
   ]
  },
  {
   "cell_type": "code",
   "execution_count": null,
   "metadata": {},
   "outputs": [],
   "source": [
    "#Visualizing the image and the respective expression"
   ]
  },
  {
   "cell_type": "code",
   "execution_count": 24,
   "metadata": {},
   "outputs": [
    {
     "name": "stdout",
     "output_type": "stream",
     "text": [
      "Happy\n"
     ]
    },
    {
     "data": {
      "image/png": "[encoded data removed]",
      "text/plain": [
       "<Figure size 432x288 with 1 Axes>"
      ]
     },
     "metadata": {
      "needs_background": "light"
     },
     "output_type": "display_data"
    }
   ],
   "source": [
    "import matplotlib.pyplot as plt\n",
    "plt.imshow(X[7].reshape(48,48))\n",
    "print(label_map[Y[7]])"
   ]
  },
  {
   "cell_type": "code",
   "execution_count": 6,
   "metadata": {
    "_uuid": "f3c6bfb7aaf3c25ba7cdd5621e4d62b9eaa5502e"
   },
   "outputs": [],
   "source": [
    "\n",
    "N, D = X.shape\n",
    "X = X.reshape(N, 48, 48, 1)"
   ]
  },
  {
   "cell_type": "code",
   "execution_count": 7,
   "metadata": {},
   "outputs": [],
   "source": [
    "from tensorflow.keras.preprocessing.image import ImageDataGenerator"
   ]
  },
  {
   "cell_type": "code",
   "execution_count": 28,
   "metadata": {},
   "outputs": [],
   "source": [
    "# Splitting the dataset into train and test set"
   ]
  },
  {
   "cell_type": "code",
   "execution_count": 8,
   "metadata": {},
   "outputs": [],
   "source": [
    "from sklearn.model_selection import train_test_split\n",
    "X_train,X_test,y_train,y_test=train_test_split(X,Y,test_size=0.2)\n",
    "y_train=(np.arange(num_class)==y_train[:,None]).astype(np.float32)\n",
    "y_test=(np.arange(num_class)==y_test[:,None]).astype(np.float32)"
   ]
  },
  {
   "cell_type": "code",
   "execution_count": null,
   "metadata": {},
   "outputs": [],
   "source": [
    "# Constructing a CNN model"
   ]
  },
  {
   "cell_type": "code",
   "execution_count": 20,
   "metadata": {},
   "outputs": [
    {
     "name": "stdout",
     "output_type": "stream",
     "text": [
      "Model: \"sequential_1\"\n",
      "_________________________________________________________________\n",
      "Layer (type)                 Output Shape              Param #   \n",
      "=================================================================\n",
      "conv2d_4 (Conv2D)            (None, 46, 46, 16)        160       \n",
      "_________________________________________________________________\n",
      "max_pooling2d_4 (MaxPooling2 (None, 23, 23, 16)        0         \n",
      "_________________________________________________________________\n",
      "conv2d_5 (Conv2D)            (None, 21, 21, 32)        4640      \n",
      "_________________________________________________________________\n",
      "max_pooling2d_5 (MaxPooling2 (None, 10, 10, 32)        0         \n",
      "_________________________________________________________________\n",
      "conv2d_6 (Conv2D)            (None, 8, 8, 64)          18496     \n",
      "_________________________________________________________________\n",
      "dropout (Dropout)            (None, 8, 8, 64)          0         \n",
      "_________________________________________________________________\n",
      "max_pooling2d_6 (MaxPooling2 (None, 4, 4, 64)          0         \n",
      "_________________________________________________________________\n",
      "conv2d_7 (Conv2D)            (None, 2, 2, 128)         73856     \n",
      "_________________________________________________________________\n",
      "max_pooling2d_7 (MaxPooling2 (None, 1, 1, 128)         0         \n",
      "_________________________________________________________________\n",
      "flatten_1 (Flatten)          (None, 128)               0         \n",
      "_________________________________________________________________\n",
      "dense_2 (Dense)              (None, 512)               66048     \n",
      "_________________________________________________________________\n",
      "dense_3 (Dense)              (None, 7)                 3591      \n",
      "=================================================================\n",
      "Total params: 166,791\n",
      "Trainable params: 166,791\n",
      "Non-trainable params: 0\n",
      "_________________________________________________________________\n"
     ]
    }
   ],
   "source": [
    "model=tf.keras.models.Sequential([\n",
    "    tf.keras.layers.Conv2D(16,(3,3),input_shape=(48,48,1),activation='relu'),\n",
    "    tf.keras.layers.MaxPooling2D(2,2),\n",
    "    tf.keras.layers.Conv2D(32,(3,3),activation='relu'),\n",
    "    tf.keras.layers.MaxPooling2D(2,2),\n",
    "    tf.keras.layers.Conv2D(64,(3,3),activation='relu'),\n",
    "    tf.keras.layers.Dropout(0.3),\n",
    "    tf.keras.layers.MaxPooling2D(2,2),\n",
    "    tf.keras.layers.Conv2D(128,(3,3),activation='relu'),\n",
    "    tf.keras.layers.MaxPooling2D(2,2),\n",
    "    tf.keras.layers.Flatten(),\n",
    "    tf.keras.layers.Dense(512,activation='relu'),\n",
    "    tf.keras.layers.Dense(7,activation='softmax')\n",
    "    \n",
    "])\n",
    "model.summary()"
   ]
  },
  {
   "cell_type": "code",
   "execution_count": 21,
   "metadata": {},
   "outputs": [],
   "source": [
    "from tensorflow.keras.optimizers import RMSprop,Adam"
   ]
  },
  {
   "cell_type": "code",
   "execution_count": 22,
   "metadata": {},
   "outputs": [],
   "source": [
    "model.compile(optimizer=Adam(lr=0.001),loss='categorical_crossentropy',metrics=['acc'])"
   ]
  },
  {
   "cell_type": "code",
   "execution_count": 23,
   "metadata": {},
   "outputs": [],
   "source": [
    "from tensorflow.keras.callbacks import ModelCheckpoint"
   ]
  },
  {
   "cell_type": "code",
   "execution_count": 24,
   "metadata": {},
   "outputs": [
    {
     "name": "stdout",
     "output_type": "stream",
     "text": [
      "Train on 28709 samples, validate on 7178 samples\n",
      "Epoch 1/20\n",
      "28709/28709 [==============================] - 17s 583us/sample - loss: 1.7835 - acc: 0.2634 - val_loss: 1.7006 - val_acc: 0.3342\n",
      "Epoch 2/20\n",
      "28709/28709 [==============================] - 16s 558us/sample - loss: 1.5465 - acc: 0.3947 - val_loss: 1.4643 - val_acc: 0.43160.3 - ETA\n",
      "Epoch 3/20\n",
      "28709/28709 [==============================] - 15s 528us/sample - loss: 1.4022 - acc: 0.4601 - val_loss: 1.4176 - val_acc: 0.4574\n",
      "Epoch 4/20\n",
      "28709/28709 [==============================] - 14s 492us/sample - loss: 1.3168 - acc: 0.4937 - val_loss: 1.3244 - val_acc: 0.4997\n",
      "Epoch 5/20\n",
      "28709/28709 [==============================] - 16s 543us/sample - loss: 1.2571 - acc: 0.5204 - val_loss: 1.2763 - val_acc: 0.5124\n",
      "Epoch 6/20\n",
      "28709/28709 [==============================] - 16s 542us/sample - loss: 1.2131 - acc: 0.5385 - val_loss: 1.2475 - val_acc: 0.5298\n",
      "Epoch 7/20\n",
      "28709/28709 [==============================] - 16s 566us/sample - loss: 1.1726 - acc: 0.5526 - val_loss: 1.2251 - val_acc: 0.5391\n",
      "Epoch 8/20\n",
      "28709/28709 [==============================] - 16s 566us/sample - loss: 1.1425 - acc: 0.5672 - val_loss: 1.2181 - val_acc: 0.5337\n",
      "Epoch 9/20\n",
      "28709/28709 [==============================] - 16s 565us/sample - loss: 1.1180 - acc: 0.5772 - val_loss: 1.1913 - val_acc: 0.5525\n",
      "Epoch 10/20\n",
      "28709/28709 [==============================] - 16s 565us/sample - loss: 1.0906 - acc: 0.5860 - val_loss: 1.1889 - val_acc: 0.5433\n",
      "Epoch 11/20\n",
      "28709/28709 [==============================] - 16s 570us/sample - loss: 1.0671 - acc: 0.5952 - val_loss: 1.1862 - val_acc: 0.5451\n",
      "Epoch 12/20\n",
      "28709/28709 [==============================] - 15s 506us/sample - loss: 1.0453 - acc: 0.6045 - val_loss: 1.1806 - val_acc: 0.5566\n",
      "Epoch 13/20\n",
      "28709/28709 [==============================] - 15s 507us/sample - loss: 1.0208 - acc: 0.6149 - val_loss: 1.1659 - val_acc: 0.5638\n",
      "Epoch 14/20\n",
      "28709/28709 [==============================] - 16s 562us/sample - loss: 1.0079 - acc: 0.6187 - val_loss: 1.1546 - val_acc: 0.5645\n",
      "Epoch 15/20\n",
      "28709/28709 [==============================] - 16s 564us/sample - loss: 0.9863 - acc: 0.6309 - val_loss: 1.1518 - val_acc: 0.5631\n",
      "Epoch 16/20\n",
      "28709/28709 [==============================] - 16s 563us/sample - loss: 0.9688 - acc: 0.6366 - val_loss: 1.1628 - val_acc: 0.5610\n",
      "Epoch 17/20\n",
      "28709/28709 [==============================] - 16s 563us/sample - loss: 0.9432 - acc: 0.6459 - val_loss: 1.1490 - val_acc: 0.5692\n",
      "Epoch 18/20\n",
      "28709/28709 [==============================] - 16s 562us/sample - loss: 0.9331 - acc: 0.6501 - val_loss: 1.1404 - val_acc: 0.5750\n",
      "Epoch 19/20\n",
      "28709/28709 [==============================] - 16s 563us/sample - loss: 0.9035 - acc: 0.6606 - val_loss: 1.1854 - val_acc: 0.5549\n",
      "Epoch 20/20\n",
      "28709/28709 [==============================] - 16s 556us/sample - loss: 0.8912 - acc: 0.6676 - val_loss: 1.1500 - val_acc: 0.5683\n"
     ]
    }
   ],
   "source": [
    "path_model='F:/fer_model_checkpoint/model_filter.h5'\n",
    "history=model.fit(x=X_train,\n",
    "                 y=y_train,\n",
    "                 batch_size=128,\n",
    "                 epochs=20,\n",
    "                 verbose=1,\n",
    "                 validation_data=(X_test,y_test),\n",
    "                 callbacks=[(ModelCheckpoint(filepath=path_model))])"
   ]
  },
  {
   "cell_type": "code",
   "execution_count": null,
   "metadata": {},
   "outputs": [],
   "source": [
    "# We have achieved top three validation score of 57.50%, 56.92% and 56.83%"
   ]
  },
  {
   "cell_type": "code",
   "execution_count": 25,
   "metadata": {},
   "outputs": [
    {
     "name": "stdout",
     "output_type": "stream",
     "text": [
      "Found GPU at: /device:GPU:0\n"
     ]
    }
   ],
   "source": [
    "device_name = tf.test.gpu_device_name()\n",
    "if \"GPU\" not in device_name:\n",
    "    print(\"GPU device not found\")\n",
    "print('Found GPU at: {}'.format(device_name))"
   ]
  },
  {
   "cell_type": "code",
   "execution_count": 2,
   "metadata": {},
   "outputs": [],
   "source": [
    "# Adding a Dropout layer to the existing model architecture"
   ]
  },
  {
   "cell_type": "code",
   "execution_count": 27,
   "metadata": {},
   "outputs": [
    {
     "name": "stdout",
     "output_type": "stream",
     "text": [
      "Model: \"sequential_3\"\n",
      "_________________________________________________________________\n",
      "Layer (type)                 Output Shape              Param #   \n",
      "=================================================================\n",
      "conv2d_12 (Conv2D)           (None, 46, 46, 16)        160       \n",
      "_________________________________________________________________\n",
      "max_pooling2d_12 (MaxPooling (None, 23, 23, 16)        0         \n",
      "_________________________________________________________________\n",
      "conv2d_13 (Conv2D)           (None, 21, 21, 32)        4640      \n",
      "_________________________________________________________________\n",
      "max_pooling2d_13 (MaxPooling (None, 10, 10, 32)        0         \n",
      "_________________________________________________________________\n",
      "conv2d_14 (Conv2D)           (None, 8, 8, 64)          18496     \n",
      "_________________________________________________________________\n",
      "dropout_2 (Dropout)          (None, 8, 8, 64)          0         \n",
      "_________________________________________________________________\n",
      "max_pooling2d_14 (MaxPooling (None, 4, 4, 64)          0         \n",
      "_________________________________________________________________\n",
      "conv2d_15 (Conv2D)           (None, 2, 2, 128)         73856     \n",
      "_________________________________________________________________\n",
      "max_pooling2d_15 (MaxPooling (None, 1, 1, 128)         0         \n",
      "_________________________________________________________________\n",
      "flatten_3 (Flatten)          (None, 128)               0         \n",
      "_________________________________________________________________\n",
      "dense_6 (Dense)              (None, 512)               66048     \n",
      "_________________________________________________________________\n",
      "dense_7 (Dense)              (None, 7)                 3591      \n",
      "=================================================================\n",
      "Total params: 166,791\n",
      "Trainable params: 166,791\n",
      "Non-trainable params: 0\n",
      "_________________________________________________________________\n"
     ]
    }
   ],
   "source": [
    "\n",
    "model=tf.keras.models.Sequential([\n",
    "    tf.keras.layers.Conv2D(16,(3,3),input_shape=(48,48,1),activation='relu'),\n",
    "    tf.keras.layers.MaxPooling2D(2,2),\n",
    "    tf.keras.layers.Conv2D(32,(3,3),activation='relu'),\n",
    "    tf.keras.layers.MaxPooling2D(2,2),\n",
    "    tf.keras.layers.Conv2D(64,(3,3),activation='relu'),\n",
    "    tf.keras.layers.Dropout(0.3),\n",
    "    tf.keras.layers.MaxPooling2D(2,2),\n",
    "    tf.keras.layers.Conv2D(128,(3,3),activation='relu'),\n",
    "    tf.keras.layers.MaxPooling2D(2,2),\n",
    "    tf.keras.layers.Flatten(),\n",
    "    tf.keras.layers.Dense(512,activation='relu'),\n",
    "    tf.keras.layers.Dense(7,activation='softmax')\n",
    "    \n",
    "])\n",
    "model.summary()\n",
    "model.compile(optimizer=Adam(lr=0.001),loss='categorical_crossentropy',metrics=['acc'])"
   ]
  },
  {
   "cell_type": "code",
   "execution_count": 3,
   "metadata": {},
   "outputs": [],
   "source": [
    "# Applying the image augmentation technique"
   ]
  },
  {
   "cell_type": "code",
   "execution_count": 28,
   "metadata": {},
   "outputs": [
    {
     "name": "stdout",
     "output_type": "stream",
     "text": [
      "WARNING:tensorflow:From <ipython-input-28-fabc7bfd7f5a>:12: Model.fit_generator (from tensorflow.python.keras.engine.training) is deprecated and will be removed in a future version.\n",
      "Instructions for updating:\n",
      "Please use Model.fit, which supports generators.\n",
      "WARNING:tensorflow:sample_weight modes were coerced from\n",
      "  ...\n",
      "    to  \n",
      "  ['...']\n",
      "Train for 225 steps, validate on 7178 samples\n",
      "Epoch 1/30\n",
      "225/225 [==============================] - 17s 77ms/step - loss: 1.7665 - acc: 0.2689 - val_loss: 1.8130 - val_acc: 0.2488\n",
      "Epoch 2/30\n",
      "225/225 [==============================] - 17s 76ms/step - loss: 1.6266 - acc: 0.3489 - val_loss: 1.7365 - val_acc: 0.3072\n",
      "Epoch 3/30\n",
      "225/225 [==============================] - 22s 96ms/step - loss: 1.5062 - acc: 0.4097 - val_loss: 1.6991 - val_acc: 0.3472\n",
      "Epoch 4/30\n",
      "225/225 [==============================] - 21s 95ms/step - loss: 1.4356 - acc: 0.4459 - val_loss: 1.6442 - val_acc: 0.3579\n",
      "Epoch 5/30\n",
      "225/225 [==============================] - 23s 101ms/step - loss: 1.3928 - acc: 0.4592 - val_loss: 1.6083 - val_acc: 0.3713\n",
      "Epoch 6/30\n",
      "225/225 [==============================] - 22s 96ms/step - loss: 1.3563 - acc: 0.4783 - val_loss: 1.5620 - val_acc: 0.3794\n",
      "Epoch 7/30\n",
      "225/225 [==============================] - 21s 95ms/step - loss: 1.3347 - acc: 0.4859 - val_loss: 1.5587 - val_acc: 0.3654\n",
      "Epoch 8/30\n",
      "225/225 [==============================] - 22s 97ms/step - loss: 1.3145 - acc: 0.4957 - val_loss: 1.5666 - val_acc: 0.3647\n",
      "Epoch 9/30\n",
      "225/225 [==============================] - 22s 96ms/step - loss: 1.2848 - acc: 0.5055 - val_loss: 1.4875 - val_acc: 0.4260\n",
      "Epoch 10/30\n",
      "225/225 [==============================] - 22s 96ms/step - loss: 1.2805 - acc: 0.5057 - val_loss: 1.4940 - val_acc: 0.4505\n",
      "Epoch 11/30\n",
      "225/225 [==============================] - 22s 97ms/step - loss: 1.2619 - acc: 0.5175 - val_loss: 1.4685 - val_acc: 0.4295\n",
      "Epoch 12/30\n",
      "225/225 [==============================] - 22s 96ms/step - loss: 1.2546 - acc: 0.5210 - val_loss: 1.4528 - val_acc: 0.4426\n",
      "Epoch 13/30\n",
      "225/225 [==============================] - 22s 97ms/step - loss: 1.2456 - acc: 0.5229 - val_loss: 1.5018 - val_acc: 0.3983\n",
      "Epoch 14/30\n",
      "225/225 [==============================] - 23s 102ms/step - loss: 1.2302 - acc: 0.5286 - val_loss: 1.4754 - val_acc: 0.4207\n",
      "Epoch 15/30\n",
      "225/225 [==============================] - 22s 98ms/step - loss: 1.2274 - acc: 0.5302 - val_loss: 1.6001 - val_acc: 0.3433\n",
      "Epoch 16/30\n",
      "225/225 [==============================] - 22s 99ms/step - loss: 1.2134 - acc: 0.5401 - val_loss: 1.4398 - val_acc: 0.4301\n",
      "Epoch 17/30\n",
      "225/225 [==============================] - 22s 97ms/step - loss: 1.2122 - acc: 0.5350 - val_loss: 1.4685 - val_acc: 0.4192\n",
      "Epoch 18/30\n",
      "225/225 [==============================] - 22s 100ms/step - loss: 1.2012 - acc: 0.5438 - val_loss: 1.4368 - val_acc: 0.4589\n",
      "Epoch 19/30\n",
      "225/225 [==============================] - 25s 109ms/step - loss: 1.1913 - acc: 0.5457 - val_loss: 1.4550 - val_acc: 0.4482\n",
      "Epoch 20/30\n",
      "225/225 [==============================] - 22s 98ms/step - loss: 1.1910 - acc: 0.5462 - val_loss: 1.4556 - val_acc: 0.4553\n",
      "Epoch 21/30\n",
      "225/225 [==============================] - 22s 98ms/step - loss: 1.1854 - acc: 0.5458 - val_loss: 1.4005 - val_acc: 0.4638\n",
      "Epoch 22/30\n",
      "225/225 [==============================] - 22s 97ms/step - loss: 1.1703 - acc: 0.5568 - val_loss: 1.4219 - val_acc: 0.4420\n",
      "Epoch 23/30\n",
      "225/225 [==============================] - 22s 98ms/step - loss: 1.1784 - acc: 0.5505 - val_loss: 1.5333 - val_acc: 0.3938\n",
      "Epoch 24/30\n",
      "225/225 [==============================] - 22s 96ms/step - loss: 1.1695 - acc: 0.5545 - val_loss: 1.4449 - val_acc: 0.4434\n",
      "Epoch 25/30\n",
      "225/225 [==============================] - 22s 97ms/step - loss: 1.1583 - acc: 0.5572 - val_loss: 1.4041 - val_acc: 0.4620\n",
      "Epoch 26/30\n",
      "225/225 [==============================] - 22s 97ms/step - loss: 1.1582 - acc: 0.5584 - val_loss: 1.4050 - val_acc: 0.4628\n",
      "Epoch 27/30\n",
      "225/225 [==============================] - 22s 96ms/step - loss: 1.1497 - acc: 0.5609 - val_loss: 1.4812 - val_acc: 0.4324\n",
      "Epoch 28/30\n",
      "225/225 [==============================] - 23s 104ms/step - loss: 1.1449 - acc: 0.5637 - val_loss: 1.4875 - val_acc: 0.4136\n",
      "Epoch 29/30\n",
      "225/225 [==============================] - 22s 99ms/step - loss: 1.1453 - acc: 0.5659 - val_loss: 1.3572 - val_acc: 0.4777\n",
      "Epoch 30/30\n",
      "225/225 [==============================] - 19s 84ms/step - loss: 1.1399 - acc: 0.5631 - val_loss: 1.4188 - val_acc: 0.4493\n"
     ]
    },
    {
     "data": {
      "text/plain": [
       "<tensorflow.python.keras.callbacks.History at 0x196109e61c8>"
      ]
     },
     "execution_count": 28,
     "metadata": {},
     "output_type": "execute_result"
    }
   ],
   "source": [
    "datagen = ImageDataGenerator(\n",
    "    featurewise_center=True,\n",
    "    featurewise_std_normalization=True,\n",
    "    rotation_range=20,\n",
    "    width_shift_range=0.2,\n",
    "    height_shift_range=0.2,\n",
    "    horizontal_flip=True)\n",
    "datagen.fit(X_train)\n",
    "path_model='model_filter.h5'\n",
    "model.fit_generator(datagen.flow(X_train,y_train,batch_size=128),\n",
    "                   epochs=30,validation_data=(X_test,y_test),\n",
    "                 callbacks=[(ModelCheckpoint(filepath=path_model))],verbose=1)\n"
   ]
  },
  {
   "cell_type": "code",
   "execution_count": 4,
   "metadata": {},
   "outputs": [],
   "source": [
    "# With image augmentation technique we have got top three validation score of, 47.77%, 46.28%,45.89%"
   ]
  },
  {
   "cell_type": "code",
   "execution_count": 73,
   "metadata": {},
   "outputs": [
    {
     "name": "stdout",
     "output_type": "stream",
     "text": [
      "Model: \"sequential_18\"\n",
      "_________________________________________________________________\n",
      "Layer (type)                 Output Shape              Param #   \n",
      "=================================================================\n",
      "conv2d_79 (Conv2D)           (None, 46, 46, 16)        160       \n",
      "_________________________________________________________________\n",
      "max_pooling2d_79 (MaxPooling (None, 23, 23, 16)        0         \n",
      "_________________________________________________________________\n",
      "conv2d_80 (Conv2D)           (None, 21, 21, 32)        4640      \n",
      "_________________________________________________________________\n",
      "max_pooling2d_80 (MaxPooling (None, 10, 10, 32)        0         \n",
      "_________________________________________________________________\n",
      "conv2d_81 (Conv2D)           (None, 8, 8, 64)          18496     \n",
      "_________________________________________________________________\n",
      "dropout_25 (Dropout)         (None, 8, 8, 64)          0         \n",
      "_________________________________________________________________\n",
      "max_pooling2d_81 (MaxPooling (None, 4, 4, 64)          0         \n",
      "_________________________________________________________________\n",
      "conv2d_82 (Conv2D)           (None, 2, 2, 128)         73856     \n",
      "_________________________________________________________________\n",
      "max_pooling2d_82 (MaxPooling (None, 1, 1, 128)         0         \n",
      "_________________________________________________________________\n",
      "flatten_19 (Flatten)         (None, 128)               0         \n",
      "_________________________________________________________________\n",
      "dense_46 (Dense)             (None, 512)               66048     \n",
      "_________________________________________________________________\n",
      "dropout_26 (Dropout)         (None, 512)               0         \n",
      "_________________________________________________________________\n",
      "dense_47 (Dense)             (None, 1024)              525312    \n",
      "_________________________________________________________________\n",
      "dense_48 (Dense)             (None, 7)                 7175      \n",
      "=================================================================\n",
      "Total params: 695,687\n",
      "Trainable params: 695,687\n",
      "Non-trainable params: 0\n",
      "_________________________________________________________________\n"
     ]
    }
   ],
   "source": [
    "#Adding two Dropout layers to the existing CNN model\n",
    "model=tf.keras.models.Sequential([\n",
    "    tf.keras.layers.Conv2D(16,(3,3),input_shape=(48,48,1),activation='relu'),\n",
    "    tf.keras.layers.MaxPooling2D(2,2),\n",
    "    tf.keras.layers.Conv2D(32,(3,3),activation='relu'),\n",
    "    tf.keras.layers.MaxPooling2D(2,2),\n",
    "    tf.keras.layers.Conv2D(64,(3,3),activation='relu'),\n",
    "    tf.keras.layers.Dropout(0.3),\n",
    "    tf.keras.layers.MaxPooling2D(2,2),\n",
    "    tf.keras.layers.Conv2D(128,(3,3),activation='relu'),\n",
    "    tf.keras.layers.MaxPooling2D(2,2),\n",
    "    tf.keras.layers.Flatten(),\n",
    "    tf.keras.layers.Dense(512,activation='relu'),\n",
    "    tf.keras.layers.Dropout(0.4),\n",
    "    tf.keras.layers.Dense(1024,activation='relu'),\n",
    "    tf.keras.layers.Dense(7,activation='softmax')\n",
    "    \n",
    "])\n",
    "model.summary()\n",
    "model.compile(optimizer=Adam(lr=0.001),loss='categorical_crossentropy',metrics=['acc'])"
   ]
  },
  {
   "cell_type": "code",
   "execution_count": 74,
   "metadata": {},
   "outputs": [
    {
     "name": "stdout",
     "output_type": "stream",
     "text": [
      "Train on 28709 samples, validate on 7178 samples\n",
      "Epoch 1/30\n",
      "28709/28709 [==============================] - 18s 624us/sample - loss: 1.7741 - acc: 0.2740 - val_loss: 1.6139 - val_acc: 0.3695\n",
      "Epoch 2/30\n",
      "28709/28709 [==============================] - 17s 577us/sample - loss: 1.5385 - acc: 0.3976 - val_loss: 1.4402 - val_acc: 0.4384\n",
      "Epoch 3/30\n",
      "28709/28709 [==============================] - 16s 571us/sample - loss: 1.4130 - acc: 0.4553 - val_loss: 1.3565 - val_acc: 0.4791\n",
      "Epoch 4/30\n",
      "28709/28709 [==============================] - 16s 570us/sample - loss: 1.3269 - acc: 0.4883 - val_loss: 1.3093 - val_acc: 0.4879\n",
      "Epoch 5/30\n",
      "28709/28709 [==============================] - 16s 575us/sample - loss: 1.2695 - acc: 0.5130 - val_loss: 1.2525 - val_acc: 0.5199\n",
      "Epoch 6/30\n",
      "28709/28709 [==============================] - 16s 568us/sample - loss: 1.2189 - acc: 0.5359 - val_loss: 1.2786 - val_acc: 0.5074\n",
      "Epoch 7/30\n",
      "28709/28709 [==============================] - 16s 573us/sample - loss: 1.1835 - acc: 0.5464 - val_loss: 1.2321 - val_acc: 0.5222\n",
      "Epoch 8/30\n",
      "28709/28709 [==============================] - 16s 572us/sample - loss: 1.1429 - acc: 0.5610 - val_loss: 1.1986 - val_acc: 0.5425\n",
      "Epoch 9/30\n",
      "28709/28709 [==============================] - 17s 578us/sample - loss: 1.1158 - acc: 0.5761 - val_loss: 1.1723 - val_acc: 0.5469\n",
      "Epoch 10/30\n",
      "28709/28709 [==============================] - 17s 580us/sample - loss: 1.0859 - acc: 0.5841 - val_loss: 1.1971 - val_acc: 0.5454\n",
      "Epoch 11/30\n",
      "28709/28709 [==============================] - 17s 577us/sample - loss: 1.0608 - acc: 0.5970 - val_loss: 1.1710 - val_acc: 0.5521\n",
      "Epoch 12/30\n",
      "28709/28709 [==============================] - 17s 575us/sample - loss: 1.0408 - acc: 0.6049 - val_loss: 1.2017 - val_acc: 0.5343\n",
      "Epoch 13/30\n",
      "28709/28709 [==============================] - 17s 583us/sample - loss: 1.0152 - acc: 0.6142 - val_loss: 1.1814 - val_acc: 0.5531\n",
      "Epoch 14/30\n",
      "28709/28709 [==============================] - 16s 571us/sample - loss: 0.9943 - acc: 0.6203 - val_loss: 1.1629 - val_acc: 0.5580\n",
      "Epoch 15/30\n",
      "28709/28709 [==============================] - 17s 585us/sample - loss: 0.9759 - acc: 0.6289 - val_loss: 1.1824 - val_acc: 0.5603\n",
      "Epoch 16/30\n",
      "28709/28709 [==============================] - 17s 580us/sample - loss: 0.9503 - acc: 0.6372 - val_loss: 1.1787 - val_acc: 0.5628\n",
      "Epoch 17/30\n",
      "28709/28709 [==============================] - 17s 575us/sample - loss: 0.9350 - acc: 0.6457 - val_loss: 1.2225 - val_acc: 0.5479\n",
      "Epoch 18/30\n",
      "28709/28709 [==============================] - 17s 580us/sample - loss: 0.9148 - acc: 0.6528 - val_loss: 1.1884 - val_acc: 0.5500\n",
      "Epoch 19/30\n",
      "28709/28709 [==============================] - 17s 581us/sample - loss: 0.9041 - acc: 0.6574 - val_loss: 1.1613 - val_acc: 0.5660\n",
      "Epoch 20/30\n",
      "28709/28709 [==============================] - 17s 579us/sample - loss: 0.8974 - acc: 0.6602 - val_loss: 1.1892 - val_acc: 0.5634\n",
      "Epoch 21/30\n",
      "28709/28709 [==============================] - 16s 570us/sample - loss: 0.8697 - acc: 0.6731 - val_loss: 1.1836 - val_acc: 0.5752\n",
      "Epoch 22/30\n",
      "28709/28709 [==============================] - 16s 567us/sample - loss: 0.8683 - acc: 0.6709 - val_loss: 1.1779 - val_acc: 0.5665\n",
      "Epoch 23/30\n",
      "28709/28709 [==============================] - 16s 570us/sample - loss: 0.8471 - acc: 0.6811 - val_loss: 1.1929 - val_acc: 0.5691\n",
      "Epoch 24/30\n",
      "28709/28709 [==============================] - 16s 573us/sample - loss: 0.8318 - acc: 0.6864 - val_loss: 1.2228 - val_acc: 0.5592\n",
      "Epoch 25/30\n",
      "28709/28709 [==============================] - 17s 583us/sample - loss: 0.8167 - acc: 0.6914 - val_loss: 1.2344 - val_acc: 0.5538\n",
      "Epoch 26/30\n",
      "28709/28709 [==============================] - 16s 568us/sample - loss: 0.8154 - acc: 0.6928 - val_loss: 1.1870 - val_acc: 0.5761\n",
      "Epoch 27/30\n",
      "28709/28709 [==============================] - 16s 573us/sample - loss: 0.7914 - acc: 0.7023 - val_loss: 1.2080 - val_acc: 0.5736\n",
      "Epoch 28/30\n",
      "28709/28709 [==============================] - 17s 577us/sample - loss: 0.7868 - acc: 0.7018 - val_loss: 1.1893 - val_acc: 0.5727\n",
      "Epoch 29/30\n",
      "28709/28709 [==============================] - 17s 576us/sample - loss: 0.7767 - acc: 0.7080 - val_loss: 1.2104 - val_acc: 0.5719\n",
      "Epoch 30/30\n",
      "28709/28709 [==============================] - 17s 575us/sample - loss: 0.7615 - acc: 0.7137 - val_loss: 1.2565 - val_acc: 0.5711\n"
     ]
    }
   ],
   "source": [
    "history=model.fit(x=X_train,\n",
    "                 y=y_train,\n",
    "                 batch_size=128,\n",
    "                 epochs=30,\n",
    "                 verbose=1,\n",
    "                 validation_data=(X_test,y_test))"
   ]
  },
  {
   "cell_type": "code",
   "execution_count": 5,
   "metadata": {},
   "outputs": [],
   "source": [
    "# We have got top three validation scores of, 57.52%,57.27%, and 57.11%"
   ]
  },
  {
   "cell_type": "code",
   "execution_count": 25,
   "metadata": {},
   "outputs": [],
   "source": []
  },
  {
   "cell_type": "code",
   "execution_count": 9,
   "metadata": {},
   "outputs": [],
   "source": []
  },
  {
   "cell_type": "code",
   "execution_count": 10,
   "metadata": {},
   "outputs": [],
   "source": []
  },
  {
   "cell_type": "code",
   "execution_count": null,
   "metadata": {},
   "outputs": [],
   "source": []
  },
  {
   "cell_type": "code",
   "execution_count": null,
   "metadata": {},
   "outputs": [],
   "source": []
  },
  {
   "cell_type": "code",
   "execution_count": null,
   "metadata": {},
   "outputs": [],
   "source": []
  },
  {
   "cell_type": "code",
   "execution_count": null,
   "metadata": {},
   "outputs": [],
   "source": []
  }
 ],
 "metadata": {
  "kernelspec": {
   "display_name": "Python 3",
   "language": "python",
   "name": "python3"
  },
  "language_info": {
   "codemirror_mode": {
    "name": "ipython",
    "version": 3
   },
   "file_extension": ".py",
   "mimetype": "text/x-python",
   "name": "python",
   "nbconvert_exporter": "python",
   "pygments_lexer": "ipython3",
   "version": "3.7.4"
  }
 },
 "nbformat": 4,
 "nbformat_minor": 4
}
